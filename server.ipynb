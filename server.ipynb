{
 "cells": [
  {
   "cell_type": "code",
   "execution_count": 2,
   "metadata": {},
   "outputs": [
    {
     "name": "stdout",
     "output_type": "stream",
     "text": [
      " * Serving Flask app '__main__'\n",
      " * Debug mode: off\n"
     ]
    },
    {
     "name": "stderr",
     "output_type": "stream",
     "text": [
      "WARNING: This is a development server. Do not use it in a production deployment. Use a production WSGI server instead.\n",
      " * Running on http://127.0.0.1:5000\n",
      "Press CTRL+C to quit\n"
     ]
    }
   ],
   "source": [
    "from flask import Flask\n",
    "from flask_sqlalchemy import SQLAlchemy\n",
    "from flask_restful import Resource, Api, reqparse, fields, marshal_with, abort\n",
    "import os\n",
    "\n",
    "app = Flask(__name__)\n",
    "app.config['SQLALCHEMY_DATABASE_URI'] = 'sqlite:///database.db'\n",
    "db = SQLAlchemy(app)\n",
    "api = Api(app)\n",
    "\n",
    "\n",
    "class UserModel(db.Model):\n",
    "    id = db. Column(db.Integer, primary_key=True)\n",
    "    name = db.Column(db.String(80), unique=True, nullable=False)\n",
    "    email = db.Column(db.String(80), unique=True, nullable=False)\n",
    "\n",
    "    def __repr__(self):\n",
    "        return f\"User(name = {self.name}, email = {self.email})\"\n",
    "\n",
    "user_args = reqparse.RequestParser()\n",
    "user_args.add_argument('name', type=str, required=True, help=\"Name cannot be blank\")\n",
    "user_args.add_argument('email', type=str, required=True, help=\"Email cannot be blank\")\n",
    "\n",
    "with app.app_context():\n",
    "    db.create_all()\n",
    "\n",
    "userFields = {\n",
    "    'id':fields.Integer,\n",
    "    'name':fields.String,\n",
    "    'email':fields.String,\n",
    "}\n",
    "\n",
    "class Users(Resource):\n",
    "    @marshal_with(userFields)\n",
    "    def get(self):\n",
    "        users = UserModel.query.all()\n",
    "        return users\n",
    "    \n",
    "    @marshal_with(userFields)\n",
    "    def post(self):\n",
    "        args = user_args.parse_args()\n",
    "        user = UserModel(name=args[\"name\"], email=args[\"email\"])\n",
    "        db.session.add(user)\n",
    "        db.session.commit()\n",
    "        users = UserModel.query.all()\n",
    "        return users, 201\n",
    "\n",
    "class User(Resource):\n",
    "    @marshal_with(userFields)\n",
    "    def get(self, id):\n",
    "        user = UserModel.query.filter_by(id=id).first()\n",
    "        if not user:\n",
    "            abort(404, \"User not found\")\n",
    "        return user\n",
    "    \n",
    "    @marshal_with(userFields)\n",
    "    def patch(self, id):\n",
    "        args = user_args.parse_args()\n",
    "        user = UserModel.query.filter_by(id=id).first()\n",
    "        if not user:\n",
    "            abort(404, \"User not found\")\n",
    "        user.name = args[\"name\"]\n",
    "        user.email = args[\"email\"]\n",
    "        db.session.commit()\n",
    "        return user\n",
    "\n",
    "    @marshal_with(userFields)\n",
    "    def delete(self, id):\n",
    "            user = UserModel.query.filter_by(id=id).first()\n",
    "            if not user:\n",
    "                abort(404)\n",
    "            db.session.delete(user)\n",
    "            db.session.commit()\n",
    "            users = UserModel.query.all()\n",
    "            return user\n",
    "\n",
    "api.add_resource(Users, '/api/users/')\n",
    "api.add_resource(User, '/api/users/<int:id>')\n",
    "\n",
    "own_pid = os.getpid() # Get the main process's PID in a global variable\n",
    "\n",
    "@app.route('/shutdown-server')\n",
    "def kill_backend():\n",
    "    global own_pid # Make sure to use the global variable\n",
    "    os.kill(own_pid, 9)\n",
    "    print(own_pid)\n",
    "\n",
    "@app.route('/')\n",
    "def hello_world():\n",
    "    return 'Hello, World!'\n",
    "\n",
    "# if __name__ == '__main__':\n",
    "app.run()"
   ]
  },
  {
   "cell_type": "code",
   "execution_count": null,
   "metadata": {},
   "outputs": [],
   "source": [
    "import requests\n",
    "\n",
    "r = requests.get('http://127.0.0.1:5000/')\n",
    "print(r)"
   ]
  },
  {
   "cell_type": "code",
   "execution_count": null,
   "metadata": {},
   "outputs": [],
   "source": []
  }
 ],
 "metadata": {
  "kernelspec": {
   "display_name": "base",
   "language": "python",
   "name": "python3"
  },
  "language_info": {
   "codemirror_mode": {
    "name": "ipython",
    "version": 3
   },
   "file_extension": ".py",
   "mimetype": "text/x-python",
   "name": "python",
   "nbconvert_exporter": "python",
   "pygments_lexer": "ipython3",
   "version": "3.9.18"
  }
 },
 "nbformat": 4,
 "nbformat_minor": 2
}
